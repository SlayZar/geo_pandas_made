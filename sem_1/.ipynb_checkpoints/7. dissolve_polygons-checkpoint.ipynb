{
 "cells": [
  {
   "cell_type": "markdown",
   "metadata": {},
   "source": [
    "Link: https://www.earthdatascience.org/courses/use-data-open-source-python/intro-vector-data-python/vector-data-processing/dissolve-polygons-in-python-geopandas-shapely/"
   ]
  },
  {
   "cell_type": "code",
   "execution_count": 1,
   "metadata": {},
   "outputs": [],
   "source": [
    "# Import libraries\n",
    "import os\n",
    "import numpy as np\n",
    "import matplotlib.pyplot as plt\n",
    "import matplotlib.lines as mlines\n",
    "from matplotlib.colors import ListedColormap\n",
    "import seaborn as sns\n",
    "from shapely.geometry import box\n",
    "import geopandas as gpd\n",
    "import earthpy as et\n",
    "\n",
    "# Adjust plot font sizes\n",
    "sns.set(font_scale=1.5)\n",
    "sns.set_style(\"white\")\n",
    "\n",
    "# Set working dir & get data\n",
    "data = et.data.get_data('spatial-vector-lidar')\n",
    "os.chdir(os.path.join(et.io.HOME, 'earth-analytics'))"
   ]
  },
  {
   "cell_type": "code",
   "execution_count": 2,
   "metadata": {},
   "outputs": [],
   "source": [
    "# Define base path as it is repeated below\n",
    "base_path = os.path.join(\"data\", \"spatial-vector-lidar\")\n",
    "\n",
    "# Define file paths\n",
    "country_boundary_path = os.path.join(base_path, \"usa\", \n",
    "                                     \"usa-boundary-dissolved.shp\")\n",
    "\n",
    "state_boundary_path = os.path.join(base_path, \"usa\", \n",
    "                                   \"usa-states-census-2014.shp\")\n",
    "\n",
    "pop_places_path = os.path.join(base_path, \"global\", \"ne_110m_populated_places_simple\", \n",
    "                               \"ne_110m_populated_places_simple.shp\")\n",
    "\n",
    "# Import the data\n",
    "country_boundary_us = gpd.read_file(country_boundary_path)\n",
    "state_boundary_us = gpd.read_file(state_boundary_path)\n",
    "pop_places = gpd.read_file(pop_places_path)"
   ]
  },
  {
   "cell_type": "code",
   "execution_count": 3,
   "metadata": {},
   "outputs": [
    {
     "data": {
      "text/html": [
       "<div>\n",
       "<style scoped>\n",
       "    .dataframe tbody tr th:only-of-type {\n",
       "        vertical-align: middle;\n",
       "    }\n",
       "\n",
       "    .dataframe tbody tr th {\n",
       "        vertical-align: top;\n",
       "    }\n",
       "\n",
       "    .dataframe thead th {\n",
       "        text-align: right;\n",
       "    }\n",
       "</style>\n",
       "<table border=\"1\" class=\"dataframe\">\n",
       "  <thead>\n",
       "    <tr style=\"text-align: right;\">\n",
       "      <th></th>\n",
       "      <th>STATEFP</th>\n",
       "      <th>STATENS</th>\n",
       "      <th>AFFGEOID</th>\n",
       "      <th>GEOID</th>\n",
       "      <th>STUSPS</th>\n",
       "      <th>NAME</th>\n",
       "      <th>LSAD</th>\n",
       "      <th>ALAND</th>\n",
       "      <th>AWATER</th>\n",
       "      <th>region</th>\n",
       "      <th>geometry</th>\n",
       "    </tr>\n",
       "  </thead>\n",
       "  <tbody>\n",
       "    <tr>\n",
       "      <th>0</th>\n",
       "      <td>06</td>\n",
       "      <td>01779778</td>\n",
       "      <td>0400000US06</td>\n",
       "      <td>06</td>\n",
       "      <td>CA</td>\n",
       "      <td>California</td>\n",
       "      <td>00</td>\n",
       "      <td>403483823181</td>\n",
       "      <td>20483271881</td>\n",
       "      <td>West</td>\n",
       "      <td>MULTIPOLYGON Z (((-118.59397 33.46720 0.00000,...</td>\n",
       "    </tr>\n",
       "    <tr>\n",
       "      <th>1</th>\n",
       "      <td>11</td>\n",
       "      <td>01702382</td>\n",
       "      <td>0400000US11</td>\n",
       "      <td>11</td>\n",
       "      <td>DC</td>\n",
       "      <td>District of Columbia</td>\n",
       "      <td>00</td>\n",
       "      <td>158350578</td>\n",
       "      <td>18633500</td>\n",
       "      <td>Northeast</td>\n",
       "      <td>POLYGON Z ((-77.11976 38.93434 0.00000, -77.04...</td>\n",
       "    </tr>\n",
       "    <tr>\n",
       "      <th>2</th>\n",
       "      <td>12</td>\n",
       "      <td>00294478</td>\n",
       "      <td>0400000US12</td>\n",
       "      <td>12</td>\n",
       "      <td>FL</td>\n",
       "      <td>Florida</td>\n",
       "      <td>00</td>\n",
       "      <td>138903200855</td>\n",
       "      <td>31407883551</td>\n",
       "      <td>Southeast</td>\n",
       "      <td>MULTIPOLYGON Z (((-81.81169 24.56874 0.00000, ...</td>\n",
       "    </tr>\n",
       "    <tr>\n",
       "      <th>3</th>\n",
       "      <td>13</td>\n",
       "      <td>01705317</td>\n",
       "      <td>0400000US13</td>\n",
       "      <td>13</td>\n",
       "      <td>GA</td>\n",
       "      <td>Georgia</td>\n",
       "      <td>00</td>\n",
       "      <td>148963503399</td>\n",
       "      <td>4947080103</td>\n",
       "      <td>Southeast</td>\n",
       "      <td>POLYGON Z ((-85.60516 34.98468 0.00000, -85.47...</td>\n",
       "    </tr>\n",
       "    <tr>\n",
       "      <th>4</th>\n",
       "      <td>16</td>\n",
       "      <td>01779783</td>\n",
       "      <td>0400000US16</td>\n",
       "      <td>16</td>\n",
       "      <td>ID</td>\n",
       "      <td>Idaho</td>\n",
       "      <td>00</td>\n",
       "      <td>214045425549</td>\n",
       "      <td>2397728105</td>\n",
       "      <td>West</td>\n",
       "      <td>POLYGON Z ((-117.24303 44.39097 0.00000, -117....</td>\n",
       "    </tr>\n",
       "  </tbody>\n",
       "</table>\n",
       "</div>"
      ],
      "text/plain": [
       "  STATEFP   STATENS     AFFGEOID GEOID STUSPS                  NAME LSAD  \\\n",
       "0      06  01779778  0400000US06    06     CA            California   00   \n",
       "1      11  01702382  0400000US11    11     DC  District of Columbia   00   \n",
       "2      12  00294478  0400000US12    12     FL               Florida   00   \n",
       "3      13  01705317  0400000US13    13     GA               Georgia   00   \n",
       "4      16  01779783  0400000US16    16     ID                 Idaho   00   \n",
       "\n",
       "          ALAND       AWATER     region  \\\n",
       "0  403483823181  20483271881       West   \n",
       "1     158350578     18633500  Northeast   \n",
       "2  138903200855  31407883551  Southeast   \n",
       "3  148963503399   4947080103  Southeast   \n",
       "4  214045425549   2397728105       West   \n",
       "\n",
       "                                            geometry  \n",
       "0  MULTIPOLYGON Z (((-118.59397 33.46720 0.00000,...  \n",
       "1  POLYGON Z ((-77.11976 38.93434 0.00000, -77.04...  \n",
       "2  MULTIPOLYGON Z (((-81.81169 24.56874 0.00000, ...  \n",
       "3  POLYGON Z ((-85.60516 34.98468 0.00000, -85.47...  \n",
       "4  POLYGON Z ((-117.24303 44.39097 0.00000, -117....  "
      ]
     },
     "execution_count": 3,
     "metadata": {},
     "output_type": "execute_result"
    }
   ],
   "source": [
    "state_boundary_us.head()"
   ]
  },
  {
   "cell_type": "code",
   "execution_count": 4,
   "metadata": {},
   "outputs": [
    {
     "data": {
      "text/plain": [
       "0    MultiPolygon\n",
       "1         Polygon\n",
       "2    MultiPolygon\n",
       "3         Polygon\n",
       "4         Polygon\n",
       "dtype: object"
      ]
     },
     "execution_count": 4,
     "metadata": {},
     "output_type": "execute_result"
    }
   ],
   "source": [
    "state_boundary_us.geom_type.head()"
   ]
  },
  {
   "cell_type": "code",
   "execution_count": 5,
   "metadata": {},
   "outputs": [
    {
     "data": {
      "text/html": [
       "<div>\n",
       "<style scoped>\n",
       "    .dataframe tbody tr th:only-of-type {\n",
       "        vertical-align: middle;\n",
       "    }\n",
       "\n",
       "    .dataframe tbody tr th {\n",
       "        vertical-align: top;\n",
       "    }\n",
       "\n",
       "    .dataframe thead th {\n",
       "        text-align: right;\n",
       "    }\n",
       "</style>\n",
       "<table border=\"1\" class=\"dataframe\">\n",
       "  <thead>\n",
       "    <tr style=\"text-align: right;\">\n",
       "      <th></th>\n",
       "      <th>geometry</th>\n",
       "    </tr>\n",
       "    <tr>\n",
       "      <th>LSAD</th>\n",
       "      <th></th>\n",
       "    </tr>\n",
       "  </thead>\n",
       "  <tbody>\n",
       "    <tr>\n",
       "      <th>00</th>\n",
       "      <td>MULTIPOLYGON Z (((-81.81169 24.56874 0.00000, ...</td>\n",
       "    </tr>\n",
       "  </tbody>\n",
       "</table>\n",
       "</div>"
      ],
      "text/plain": [
       "                                               geometry\n",
       "LSAD                                                   \n",
       "00    MULTIPOLYGON Z (((-81.81169 24.56874 0.00000, ..."
      ]
     },
     "execution_count": 5,
     "metadata": {},
     "output_type": "execute_result"
    }
   ],
   "source": [
    "state_boundary = state_boundary_us[['LSAD', 'geometry']]\n",
    "cont_usa = state_boundary.dissolve(by='LSAD')\n",
    "\n",
    "# View the resulting geodataframe\n",
    "cont_usa"
   ]
  },
  {
   "cell_type": "code",
   "execution_count": 6,
   "metadata": {},
   "outputs": [
    {
     "data": {
      "text/html": [
       "<div>\n",
       "<style scoped>\n",
       "    .dataframe tbody tr th:only-of-type {\n",
       "        vertical-align: middle;\n",
       "    }\n",
       "\n",
       "    .dataframe tbody tr th {\n",
       "        vertical-align: top;\n",
       "    }\n",
       "\n",
       "    .dataframe thead th {\n",
       "        text-align: right;\n",
       "    }\n",
       "</style>\n",
       "<table border=\"1\" class=\"dataframe\">\n",
       "  <thead>\n",
       "    <tr style=\"text-align: right;\">\n",
       "      <th></th>\n",
       "      <th>LSAD</th>\n",
       "      <th>geometry</th>\n",
       "    </tr>\n",
       "  </thead>\n",
       "  <tbody>\n",
       "    <tr>\n",
       "      <th>0</th>\n",
       "      <td>00</td>\n",
       "      <td>MULTIPOLYGON Z (((-81.81169 24.56874 0.00000, ...</td>\n",
       "    </tr>\n",
       "  </tbody>\n",
       "</table>\n",
       "</div>"
      ],
      "text/plain": [
       "  LSAD                                           geometry\n",
       "0   00  MULTIPOLYGON Z (((-81.81169 24.56874 0.00000, ..."
      ]
     },
     "execution_count": 6,
     "metadata": {},
     "output_type": "execute_result"
    }
   ],
   "source": [
    "cont_usa.reset_index()"
   ]
  },
  {
   "cell_type": "code",
   "execution_count": 7,
   "metadata": {},
   "outputs": [
    {
     "data": {
      "image/png": "[encoded data removed]",
      "text/plain": [
       "<Figure size 720x432 with 1 Axes>"
      ]
     },
     "metadata": {},
     "output_type": "display_data"
    }
   ],
   "source": [
    "# Plot the data\n",
    "fig, ax = plt.subplots(figsize=(10, 6))\n",
    "cont_usa.reset_index().plot(column='LSAD',\n",
    "                            ax=ax)\n",
    "ax.set_axis_off()\n",
    "plt.axis('equal')\n",
    "plt.show() "
   ]
  },
  {
   "cell_type": "code",
   "execution_count": 8,
   "metadata": {},
   "outputs": [
    {
     "data": {
      "text/html": [
       "<div>\n",
       "<style scoped>\n",
       "    .dataframe tbody tr th:only-of-type {\n",
       "        vertical-align: middle;\n",
       "    }\n",
       "\n",
       "    .dataframe tbody tr th {\n",
       "        vertical-align: top;\n",
       "    }\n",
       "\n",
       "    .dataframe thead th {\n",
       "        text-align: right;\n",
       "    }\n",
       "</style>\n",
       "<table border=\"1\" class=\"dataframe\">\n",
       "  <thead>\n",
       "    <tr style=\"text-align: right;\">\n",
       "      <th></th>\n",
       "      <th>geometry</th>\n",
       "      <th>ALAND</th>\n",
       "      <th>AWATER</th>\n",
       "    </tr>\n",
       "    <tr>\n",
       "      <th>region</th>\n",
       "      <th></th>\n",
       "      <th></th>\n",
       "      <th></th>\n",
       "    </tr>\n",
       "  </thead>\n",
       "  <tbody>\n",
       "    <tr>\n",
       "      <th>Midwest</th>\n",
       "      <td>MULTIPOLYGON Z (((-87.80048 42.49192 0.00000, ...</td>\n",
       "      <td>1943869253244</td>\n",
       "      <td>184383393833</td>\n",
       "    </tr>\n",
       "    <tr>\n",
       "      <th>Northeast</th>\n",
       "      <td>MULTIPOLYGON Z (((-76.04621 38.02553 0.00000, ...</td>\n",
       "      <td>869066138232</td>\n",
       "      <td>108922434345</td>\n",
       "    </tr>\n",
       "    <tr>\n",
       "      <th>Southeast</th>\n",
       "      <td>MULTIPOLYGON Z (((-81.81169 24.56874 0.00000, ...</td>\n",
       "      <td>1364632039655</td>\n",
       "      <td>103876652998</td>\n",
       "    </tr>\n",
       "    <tr>\n",
       "      <th>Southwest</th>\n",
       "      <td>POLYGON Z ((-94.48587 33.63787 0.00000, -94.41...</td>\n",
       "      <td>1462631530997</td>\n",
       "      <td>24217682268</td>\n",
       "    </tr>\n",
       "    <tr>\n",
       "      <th>West</th>\n",
       "      <td>MULTIPOLYGON Z (((-104.05325 41.00141 0.00000,...</td>\n",
       "      <td>2432336444730</td>\n",
       "      <td>57568049509</td>\n",
       "    </tr>\n",
       "  </tbody>\n",
       "</table>\n",
       "</div>"
      ],
      "text/plain": [
       "                                                    geometry          ALAND  \\\n",
       "region                                                                        \n",
       "Midwest    MULTIPOLYGON Z (((-87.80048 42.49192 0.00000, ...  1943869253244   \n",
       "Northeast  MULTIPOLYGON Z (((-76.04621 38.02553 0.00000, ...   869066138232   \n",
       "Southeast  MULTIPOLYGON Z (((-81.81169 24.56874 0.00000, ...  1364632039655   \n",
       "Southwest  POLYGON Z ((-94.48587 33.63787 0.00000, -94.41...  1462631530997   \n",
       "West       MULTIPOLYGON Z (((-104.05325 41.00141 0.00000,...  2432336444730   \n",
       "\n",
       "                 AWATER  \n",
       "region                   \n",
       "Midwest    184383393833  \n",
       "Northeast  108922434345  \n",
       "Southeast  103876652998  \n",
       "Southwest   24217682268  \n",
       "West        57568049509  "
      ]
     },
     "execution_count": 8,
     "metadata": {},
     "output_type": "execute_result"
    }
   ],
   "source": [
    "# Select the columns that you wish to retain in the data\n",
    "state_boundary = state_boundary_us[['region', 'geometry', 'ALAND', 'AWATER']]\n",
    "\n",
    "# Then summarize the quantative columns by 'sum'\n",
    "regions_agg = state_boundary.dissolve(by='region', aggfunc='sum')\n",
    "regions_agg"
   ]
  },
  {
   "cell_type": "code",
   "execution_count": 9,
   "metadata": {},
   "outputs": [
    {
     "data": {
      "text/html": [
       "<div>\n",
       "<style scoped>\n",
       "    .dataframe tbody tr th:only-of-type {\n",
       "        vertical-align: middle;\n",
       "    }\n",
       "\n",
       "    .dataframe tbody tr th {\n",
       "        vertical-align: top;\n",
       "    }\n",
       "\n",
       "    .dataframe thead th {\n",
       "        text-align: right;\n",
       "    }\n",
       "</style>\n",
       "<table border=\"1\" class=\"dataframe\">\n",
       "  <thead>\n",
       "    <tr style=\"text-align: right;\">\n",
       "      <th></th>\n",
       "      <th>geometry</th>\n",
       "      <th>ALAND</th>\n",
       "      <th>AWATER</th>\n",
       "      <th>land_ha</th>\n",
       "      <th>water_ha</th>\n",
       "    </tr>\n",
       "    <tr>\n",
       "      <th>region</th>\n",
       "      <th></th>\n",
       "      <th></th>\n",
       "      <th></th>\n",
       "      <th></th>\n",
       "      <th></th>\n",
       "    </tr>\n",
       "  </thead>\n",
       "  <tbody>\n",
       "    <tr>\n",
       "      <th>Midwest</th>\n",
       "      <td>MULTIPOLYGON Z (((-87.80048 42.49192 0.00000, ...</td>\n",
       "      <td>1943869253244</td>\n",
       "      <td>184383393833</td>\n",
       "      <td>1.943869e+08</td>\n",
       "      <td>1.843834e+07</td>\n",
       "    </tr>\n",
       "    <tr>\n",
       "      <th>Northeast</th>\n",
       "      <td>MULTIPOLYGON Z (((-76.04621 38.02553 0.00000, ...</td>\n",
       "      <td>869066138232</td>\n",
       "      <td>108922434345</td>\n",
       "      <td>8.690661e+07</td>\n",
       "      <td>1.089224e+07</td>\n",
       "    </tr>\n",
       "    <tr>\n",
       "      <th>Southeast</th>\n",
       "      <td>MULTIPOLYGON Z (((-81.81169 24.56874 0.00000, ...</td>\n",
       "      <td>1364632039655</td>\n",
       "      <td>103876652998</td>\n",
       "      <td>1.364632e+08</td>\n",
       "      <td>1.038767e+07</td>\n",
       "    </tr>\n",
       "    <tr>\n",
       "      <th>Southwest</th>\n",
       "      <td>POLYGON Z ((-94.48587 33.63787 0.00000, -94.41...</td>\n",
       "      <td>1462631530997</td>\n",
       "      <td>24217682268</td>\n",
       "      <td>1.462632e+08</td>\n",
       "      <td>2.421768e+06</td>\n",
       "    </tr>\n",
       "    <tr>\n",
       "      <th>West</th>\n",
       "      <td>MULTIPOLYGON Z (((-104.05325 41.00141 0.00000,...</td>\n",
       "      <td>2432336444730</td>\n",
       "      <td>57568049509</td>\n",
       "      <td>2.432336e+08</td>\n",
       "      <td>5.756805e+06</td>\n",
       "    </tr>\n",
       "  </tbody>\n",
       "</table>\n",
       "</div>"
      ],
      "text/plain": [
       "                                                    geometry          ALAND  \\\n",
       "region                                                                        \n",
       "Midwest    MULTIPOLYGON Z (((-87.80048 42.49192 0.00000, ...  1943869253244   \n",
       "Northeast  MULTIPOLYGON Z (((-76.04621 38.02553 0.00000, ...   869066138232   \n",
       "Southeast  MULTIPOLYGON Z (((-81.81169 24.56874 0.00000, ...  1364632039655   \n",
       "Southwest  POLYGON Z ((-94.48587 33.63787 0.00000, -94.41...  1462631530997   \n",
       "West       MULTIPOLYGON Z (((-104.05325 41.00141 0.00000,...  2432336444730   \n",
       "\n",
       "                 AWATER       land_ha      water_ha  \n",
       "region                                               \n",
       "Midwest    184383393833  1.943869e+08  1.843834e+07  \n",
       "Northeast  108922434345  8.690661e+07  1.089224e+07  \n",
       "Southeast  103876652998  1.364632e+08  1.038767e+07  \n",
       "Southwest   24217682268  1.462632e+08  2.421768e+06  \n",
       "West        57568049509  2.432336e+08  5.756805e+06  "
      ]
     },
     "execution_count": 9,
     "metadata": {},
     "output_type": "execute_result"
    }
   ],
   "source": [
    "# Convert area units from square meters to hectares (divide by 10,000)\n",
    "regions_agg[\"land_ha\"] = regions_agg[\"ALAND\"] / 10000\n",
    "regions_agg[\"water_ha\"] = regions_agg[\"AWATER\"] / 10000\n",
    "regions_agg"
   ]
  },
  {
   "cell_type": "code",
   "execution_count": 14,
   "metadata": {},
   "outputs": [
    {
     "data": {
      "image/png": "[encoded data removed]",
      "text/plain": [
       "<Figure size 720x720 with 4 Axes>"
      ]
     },
     "metadata": {},
     "output_type": "display_data"
    }
   ],
   "source": [
    "fig, (ax1, ax2) = plt.subplots(2, 1, figsize=(10, 10))\n",
    "\n",
    "regions_agg.plot(column='land_ha',\n",
    "                 legend=True,\n",
    "#                  scheme=\"quantiles\",\n",
    "                 ax=ax1)\n",
    "\n",
    "regions_agg.plot(column='water_ha',\n",
    "#                  scheme=\"quantiles\",\n",
    "                 legend=True,\n",
    "                 ax=ax2)\n",
    "\n",
    "plt.suptitle('Census Data - Total Land and Water by Region (Hectares)', fontsize=16)\n",
    "leg = ax1.get_legend()\n",
    "# leg.set_bbox_to_anchor((1.5,1))\n",
    "\n",
    "leg = ax2.get_legend()\n",
    "# leg.set_bbox_to_anchor((1.5,1))\n",
    "ax1.set_axis_off()\n",
    "ax2.set_axis_off()\n",
    "\n",
    "plt.axis('equal')\n",
    "plt.show()"
   ]
  },
  {
   "cell_type": "code",
   "execution_count": null,
   "metadata": {},
   "outputs": [],
   "source": []
  }
 ],
 "metadata": {
  "kernelspec": {
   "display_name": "Python 3",
   "language": "python",
   "name": "python3"
  },
  "language_info": {
   "codemirror_mode": {
    "name": "ipython",
    "version": 3
   },
   "file_extension": ".py",
   "mimetype": "text/x-python",
   "name": "python",
   "nbconvert_exporter": "python",
   "pygments_lexer": "ipython3",
   "version": "3.8.5"
  }
 },
 "nbformat": 4,
 "nbformat_minor": 4
}
