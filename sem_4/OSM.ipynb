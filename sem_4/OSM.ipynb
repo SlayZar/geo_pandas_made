{
 "cells": [
  {
   "cell_type": "markdown",
   "metadata": {},
   "source": [
    "# OSM API"
   ]
  },
  {
   "cell_type": "markdown",
   "metadata": {},
   "source": [
    "https://wiki.openstreetmap.org/wiki/Osmapi\n",
    "\n",
    "https://github.com/metaodi/osmapi"
   ]
  },
  {
   "cell_type": "code",
   "execution_count": 2,
   "metadata": {},
   "outputs": [],
   "source": [
    "import osmapi as osm\n",
    "from PIL import Image\n",
    "import requests\n",
    "from io import BytesIO"
   ]
  },
  {
   "cell_type": "markdown",
   "metadata": {},
   "source": [
    "https://www.openstreetmap.org/query?lat=47.3777&lon=8.5396"
   ]
  },
  {
   "cell_type": "code",
   "execution_count": 6,
   "metadata": {},
   "outputs": [],
   "source": [
    "api = osm.OsmApi() # this instantiate the OsmApi class - do you need to authorise?\n",
    "node = api.NodeGet('...')"
   ]
  },
  {
   "cell_type": "code",
   "execution_count": null,
   "metadata": {},
   "outputs": [],
   "source": [
    "# Can you get also ways and relations?"
   ]
  },
  {
   "cell_type": "code",
   "execution_count": 5,
   "metadata": {},
   "outputs": [
    {
     "ename": "NameError",
     "evalue": "name 'node' is not defined",
     "output_type": "error",
     "traceback": [
      "\u001b[1;31m---------------------------------------------------------------------------\u001b[0m",
      "\u001b[1;31mNameError\u001b[0m                                 Traceback (most recent call last)",
      "\u001b[1;32m<ipython-input-5-63d9b8a4ce3f>\u001b[0m in \u001b[0;36m<module>\u001b[1;34m\u001b[0m\n\u001b[0;32m      1\u001b[0m \u001b[1;31m# Visualization of attributes\u001b[0m\u001b[1;33m\u001b[0m\u001b[1;33m\u001b[0m\u001b[1;33m\u001b[0m\u001b[0m\n\u001b[1;32m----> 2\u001b[1;33m \u001b[0mresponse\u001b[0m \u001b[1;33m=\u001b[0m \u001b[0mrequests\u001b[0m\u001b[1;33m.\u001b[0m\u001b[0mget\u001b[0m\u001b[1;33m(\u001b[0m\u001b[0mnode\u001b[0m\u001b[1;33m[\u001b[0m\u001b[1;34m'tag'\u001b[0m\u001b[1;33m]\u001b[0m\u001b[1;33m[\u001b[0m\u001b[1;34m'image'\u001b[0m\u001b[1;33m]\u001b[0m\u001b[1;33m)\u001b[0m\u001b[1;33m\u001b[0m\u001b[1;33m\u001b[0m\u001b[0m\n\u001b[0m\u001b[0;32m      3\u001b[0m \u001b[0mimg\u001b[0m \u001b[1;33m=\u001b[0m \u001b[0mImage\u001b[0m\u001b[1;33m.\u001b[0m\u001b[0mopen\u001b[0m\u001b[1;33m(\u001b[0m\u001b[0mBytesIO\u001b[0m\u001b[1;33m(\u001b[0m\u001b[0mresponse\u001b[0m\u001b[1;33m.\u001b[0m\u001b[0mcontent\u001b[0m\u001b[1;33m)\u001b[0m\u001b[1;33m)\u001b[0m\u001b[1;33m\u001b[0m\u001b[1;33m\u001b[0m\u001b[0m\n",
      "\u001b[1;31mNameError\u001b[0m: name 'node' is not defined"
     ]
    }
   ],
   "source": [
    "# Visualization of attributes\n",
    "response = requests.get(node['tag']['image'])\n",
    "img = Image.open(BytesIO(response.content))"
   ]
  },
  {
   "cell_type": "markdown",
   "metadata": {},
   "source": [
    "# OSMPythonTools"
   ]
  },
  {
   "cell_type": "markdown",
   "metadata": {},
   "source": [
    "https://github.com/mocnik-science/osm-python-tools"
   ]
  },
  {
   "cell_type": "markdown",
   "metadata": {},
   "source": [
    "## Example 1"
   ]
  },
  {
   "cell_type": "markdown",
   "metadata": {},
   "source": [
    "_Which object does the way with the id 5887599 represent?_"
   ]
  },
  {
   "cell_type": "code",
   "execution_count": 8,
   "metadata": {},
   "outputs": [
    {
     "name": "stdout",
     "output_type": "stream",
     "text": [
      "[api] downloading data: way/5887599\n"
     ]
    }
   ],
   "source": [
    "from OSMPythonTools.api import Api\n",
    "api = Api()\n",
    "way = api.query('way/5887599')"
   ]
  },
  {
   "cell_type": "code",
   "execution_count": 9,
   "metadata": {},
   "outputs": [
    {
     "data": {
      "text/plain": [
       "'https://www.belvedere.at/'"
      ]
     },
     "execution_count": 9,
     "metadata": {},
     "output_type": "execute_result"
    }
   ],
   "source": [
    "way.tag('building')\n",
    "way.tag('architect')\n",
    "way.tag('website')"
   ]
  },
  {
   "cell_type": "markdown",
   "metadata": {},
   "source": [
    "## Example 2"
   ]
  },
  {
   "cell_type": "markdown",
   "metadata": {},
   "source": [
    "_What is the English name of the church called ‘Stephansdom’, what address does it have, and which of which denomination is the church?_"
   ]
  },
  {
   "cell_type": "code",
   "execution_count": 10,
   "metadata": {},
   "outputs": [
    {
     "name": "stdout",
     "output_type": "stream",
     "text": [
      "[overpass] downloading data: [timeout:25][out:json];way[\"name\"=\"Stephansdom\"]; out body;\n"
     ]
    }
   ],
   "source": [
    "from OSMPythonTools.overpass import Overpass\n",
    "overpass = Overpass()\n",
    "result = overpass.query('way[\"name\"=\"Stephansdom\"]; out body;')"
   ]
  },
  {
   "cell_type": "code",
   "execution_count": 11,
   "metadata": {},
   "outputs": [],
   "source": [
    "stephansdom = result.elements()[0]"
   ]
  },
  {
   "cell_type": "code",
   "execution_count": 12,
   "metadata": {},
   "outputs": [
    {
     "data": {
      "text/plain": [
       "'roman_catholic'"
      ]
     },
     "execution_count": 12,
     "metadata": {},
     "output_type": "execute_result"
    }
   ],
   "source": [
    "stephansdom.tag('name:en')\n",
    "'%s %s, %s %s' % (stephansdom.tag('addr:street'), stephansdom.tag('addr:housenumber'), stephansdom.tag('addr:postcode'), stephansdom.tag('addr:city'))\n",
    "stephansdom.tag('building')\n",
    "stephansdom.tag('denomination')"
   ]
  },
  {
   "cell_type": "markdown",
   "metadata": {},
   "source": [
    "## Example 3"
   ]
  },
  {
   "cell_type": "markdown",
   "metadata": {},
   "source": [
    "_How many trees are in the OSM data of Vienna? And how many trees have there been in 2013?_"
   ]
  },
  {
   "cell_type": "code",
   "execution_count": 13,
   "metadata": {},
   "outputs": [
    {
     "name": "stdout",
     "output_type": "stream",
     "text": [
      "[nominatim] downloading data: Vienna, Austria\n"
     ]
    }
   ],
   "source": [
    "from OSMPythonTools.nominatim import Nominatim\n",
    "nominatim = Nominatim()\n",
    "areaId = nominatim.query('Vienna, Austria').areaId()"
   ]
  },
  {
   "cell_type": "code",
   "execution_count": 14,
   "metadata": {},
   "outputs": [
    {
     "name": "stdout",
     "output_type": "stream",
     "text": [
      "[overpass] downloading data: [timeout:25][out:json];area(3600109166)->.searchArea;(node[\"natural\"=\"tree\"](area.searchArea);); out count;\n"
     ]
    },
    {
     "data": {
      "text/plain": [
       "141650"
      ]
     },
     "execution_count": 14,
     "metadata": {},
     "output_type": "execute_result"
    }
   ],
   "source": [
    "from OSMPythonTools.overpass import overpassQueryBuilder, Overpass\n",
    "overpass = Overpass()\n",
    "query = overpassQueryBuilder(area=areaId, elementType='node', selector='\"natural\"=\"tree\"', out='count')\n",
    "result = overpass.query(query)\n",
    "result.countElements()"
   ]
  },
  {
   "cell_type": "code",
   "execution_count": 15,
   "metadata": {},
   "outputs": [
    {
     "name": "stdout",
     "output_type": "stream",
     "text": [
      "[overpass] downloading data: [timeout:60][date:\"2013-01-01T00:00:00Z\"][out:json];area(3600109166)->.searchArea;(node[\"natural\"=\"tree\"](area.searchArea);); out count;\n"
     ]
    },
    {
     "data": {
      "text/plain": [
       "127690"
      ]
     },
     "execution_count": 15,
     "metadata": {},
     "output_type": "execute_result"
    }
   ],
   "source": [
    "result = overpass.query(query, date='2013-01-01T00:00:00Z', timeout=60)\n",
    "result.countElements()"
   ]
  },
  {
   "cell_type": "markdown",
   "metadata": {},
   "source": [
    "## Example 4"
   ]
  },
  {
   "cell_type": "markdown",
   "metadata": {},
   "source": [
    "_Where are waterbodies located in Vienna?_"
   ]
  },
  {
   "cell_type": "code",
   "execution_count": 16,
   "metadata": {},
   "outputs": [],
   "source": [
    "from OSMPythonTools.nominatim import Nominatim\n",
    "nominatim = Nominatim()\n",
    "areaId = nominatim.query('Vienna, Austria').areaId()"
   ]
  },
  {
   "cell_type": "code",
   "execution_count": 17,
   "metadata": {},
   "outputs": [
    {
     "name": "stdout",
     "output_type": "stream",
     "text": [
      "[overpass] downloading data: [timeout:25][date:\"2013-01-01T00:00:00Z\"][out:json];area(3600109166)->.searchArea;(way[\"natural\"=\"water\"](area.searchArea);relation[\"natural\"=\"water\"](area.searchArea);); out body geom;\n",
      "[overpass] waiting for 10.0 seconds\n",
      "[overpass] waiting for 10.0 more seconds\n",
      "[overpass] waiting for 10.0 more seconds\n",
      "[overpass] start processing\n",
      "Exception: [overpass] runtime error: Query timed out in \"query\" at line 1 after 54 seconds.\n"
     ]
    },
    {
     "ename": "Exception",
     "evalue": "[overpass] error in result (cache/overpass-9dc297c5a20c19a14697771e44109695566d12f3): [timeout:25][date:\"2013-01-01T00:00:00Z\"][out:json];area(3600109166)->.searchArea;(way[\"natural\"=\"water\"](area.searchArea);relation[\"natural\"=\"water\"](area.searchArea);); out body geom;",
     "output_type": "error",
     "traceback": [
      "\u001b[1;31m---------------------------------------------------------------------------\u001b[0m",
      "\u001b[1;31mException\u001b[0m                                 Traceback (most recent call last)",
      "\u001b[1;32m<ipython-input-17-fdf43b116abf>\u001b[0m in \u001b[0;36m<module>\u001b[1;34m\u001b[0m\n\u001b[0;32m      2\u001b[0m \u001b[0moverpass\u001b[0m \u001b[1;33m=\u001b[0m \u001b[0mOverpass\u001b[0m\u001b[1;33m(\u001b[0m\u001b[1;33m)\u001b[0m\u001b[1;33m\u001b[0m\u001b[1;33m\u001b[0m\u001b[0m\n\u001b[0;32m      3\u001b[0m \u001b[0mquery\u001b[0m \u001b[1;33m=\u001b[0m \u001b[0moverpassQueryBuilder\u001b[0m\u001b[1;33m(\u001b[0m\u001b[0marea\u001b[0m\u001b[1;33m=\u001b[0m\u001b[0mareaId\u001b[0m\u001b[1;33m,\u001b[0m \u001b[0melementType\u001b[0m\u001b[1;33m=\u001b[0m\u001b[1;33m[\u001b[0m\u001b[1;34m'way'\u001b[0m\u001b[1;33m,\u001b[0m \u001b[1;34m'relation'\u001b[0m\u001b[1;33m]\u001b[0m\u001b[1;33m,\u001b[0m \u001b[0mselector\u001b[0m\u001b[1;33m=\u001b[0m\u001b[1;34m'\"natural\"=\"water\"'\u001b[0m\u001b[1;33m,\u001b[0m \u001b[0mincludeGeometry\u001b[0m\u001b[1;33m=\u001b[0m\u001b[1;32mTrue\u001b[0m\u001b[1;33m)\u001b[0m\u001b[1;33m\u001b[0m\u001b[1;33m\u001b[0m\u001b[0m\n\u001b[1;32m----> 4\u001b[1;33m \u001b[0mresult\u001b[0m \u001b[1;33m=\u001b[0m \u001b[0moverpass\u001b[0m\u001b[1;33m.\u001b[0m\u001b[0mquery\u001b[0m\u001b[1;33m(\u001b[0m\u001b[0mquery\u001b[0m\u001b[1;33m)\u001b[0m\u001b[1;33m\u001b[0m\u001b[1;33m\u001b[0m\u001b[0m\n\u001b[0m",
      "\u001b[1;32m~\\anaconda3\\envs\\earth-analytics-python\\lib\\site-packages\\OSMPythonTools\\internal\\cacheObject.py\u001b[0m in \u001b[0;36mquery\u001b[1;34m(self, onlyCached, shallow, *args, **kwargs)\u001b[0m\n\u001b[0;32m     40\u001b[0m         \u001b[0mresult\u001b[0m \u001b[1;33m=\u001b[0m \u001b[0mself\u001b[0m\u001b[1;33m.\u001b[0m\u001b[0m_rawToResult\u001b[0m\u001b[1;33m(\u001b[0m\u001b[0mdata\u001b[0m\u001b[1;33m,\u001b[0m \u001b[0mqueryString\u001b[0m\u001b[1;33m,\u001b[0m \u001b[0mshallow\u001b[0m\u001b[1;33m=\u001b[0m\u001b[0mshallow\u001b[0m\u001b[1;33m)\u001b[0m\u001b[1;33m\u001b[0m\u001b[1;33m\u001b[0m\u001b[0m\n\u001b[0;32m     41\u001b[0m         \u001b[1;32mif\u001b[0m \u001b[1;32mnot\u001b[0m \u001b[0mself\u001b[0m\u001b[1;33m.\u001b[0m\u001b[0m_isValid\u001b[0m\u001b[1;33m(\u001b[0m\u001b[0mresult\u001b[0m\u001b[1;33m)\u001b[0m\u001b[1;33m:\u001b[0m\u001b[1;33m\u001b[0m\u001b[1;33m\u001b[0m\u001b[0m\n\u001b[1;32m---> 42\u001b[1;33m             \u001b[1;32mraise\u001b[0m\u001b[1;33m(\u001b[0m\u001b[0mException\u001b[0m\u001b[1;33m(\u001b[0m\u001b[1;34m'['\u001b[0m \u001b[1;33m+\u001b[0m \u001b[0mself\u001b[0m\u001b[1;33m.\u001b[0m\u001b[0m_prefix\u001b[0m \u001b[1;33m+\u001b[0m \u001b[1;34m'] error in result ('\u001b[0m \u001b[1;33m+\u001b[0m \u001b[0mfilename\u001b[0m \u001b[1;33m+\u001b[0m \u001b[1;34m'): '\u001b[0m \u001b[1;33m+\u001b[0m \u001b[0mqueryString\u001b[0m\u001b[1;33m)\u001b[0m\u001b[1;33m)\u001b[0m\u001b[1;33m\u001b[0m\u001b[1;33m\u001b[0m\u001b[0m\n\u001b[0m\u001b[0;32m     43\u001b[0m         \u001b[1;32mreturn\u001b[0m \u001b[0mresult\u001b[0m\u001b[1;33m\u001b[0m\u001b[1;33m\u001b[0m\u001b[0m\n\u001b[0;32m     44\u001b[0m \u001b[1;33m\u001b[0m\u001b[0m\n",
      "\u001b[1;31mException\u001b[0m: [overpass] error in result (cache/overpass-9dc297c5a20c19a14697771e44109695566d12f3): [timeout:25][date:\"2013-01-01T00:00:00Z\"][out:json];area(3600109166)->.searchArea;(way[\"natural\"=\"water\"](area.searchArea);relation[\"natural\"=\"water\"](area.searchArea);); out body geom;"
     ]
    }
   ],
   "source": [
    "from OSMPythonTools.overpass import overpassQueryBuilder, Overpass\n",
    "overpass = Overpass()\n",
    "query = overpassQueryBuilder(area=areaId, elementType=['way', 'relation'], selector='\"natural\"=\"water\"', includeGeometry=True)\n",
    "result = overpass.query(query)"
   ]
  },
  {
   "cell_type": "code",
   "execution_count": 18,
   "metadata": {},
   "outputs": [
    {
     "ename": "TypeError",
     "evalue": "'NoneType' object is not subscriptable",
     "output_type": "error",
     "traceback": [
      "\u001b[1;31m---------------------------------------------------------------------------\u001b[0m",
      "\u001b[1;31mTypeError\u001b[0m                                 Traceback (most recent call last)",
      "\u001b[1;32m<ipython-input-18-b17f930326a6>\u001b[0m in \u001b[0;36m<module>\u001b[1;34m\u001b[0m\n\u001b[1;32m----> 1\u001b[1;33m \u001b[0mfirstElement\u001b[0m \u001b[1;33m=\u001b[0m \u001b[0mresult\u001b[0m\u001b[1;33m.\u001b[0m\u001b[0melements\u001b[0m\u001b[1;33m(\u001b[0m\u001b[1;33m)\u001b[0m\u001b[1;33m[\u001b[0m\u001b[1;36m0\u001b[0m\u001b[1;33m]\u001b[0m\u001b[1;33m\u001b[0m\u001b[1;33m\u001b[0m\u001b[0m\n\u001b[0m\u001b[0;32m      2\u001b[0m \u001b[0mfirstElement\u001b[0m\u001b[1;33m.\u001b[0m\u001b[0mgeometry\u001b[0m\u001b[1;33m(\u001b[0m\u001b[1;33m)\u001b[0m\u001b[1;33m\u001b[0m\u001b[1;33m\u001b[0m\u001b[0m\n",
      "\u001b[1;31mTypeError\u001b[0m: 'NoneType' object is not subscriptable"
     ]
    }
   ],
   "source": [
    "firstElement = result.elements()[0]\n",
    "firstElement.geometry()"
   ]
  },
  {
   "cell_type": "markdown",
   "metadata": {},
   "source": [
    "## Example 5"
   ]
  },
  {
   "cell_type": "markdown",
   "metadata": {},
   "source": [
    "_How did the number of trees in Berlin, Paris, and Vienna change over time?_"
   ]
  },
  {
   "cell_type": "code",
   "execution_count": 19,
   "metadata": {},
   "outputs": [],
   "source": [
    "from collections import OrderedDict\n",
    "from OSMPythonTools.data import Data, dictRangeYears, ALL\n",
    "from OSMPythonTools.overpass import overpassQueryBuilder, Overpass"
   ]
  },
  {
   "cell_type": "code",
   "execution_count": 20,
   "metadata": {},
   "outputs": [],
   "source": [
    "dimensions = OrderedDict([\n",
    "    ('year', dictRangeYears(2013, 2017.5, 1)),\n",
    "    ('city', OrderedDict({\n",
    "        'berlin': 'Berlin, Germany',\n",
    "        'paris': 'Paris, France',\n",
    "        'vienna': 'Vienna, Austria',\n",
    "    })),\n",
    "])"
   ]
  },
  {
   "cell_type": "code",
   "execution_count": 21,
   "metadata": {},
   "outputs": [
    {
     "name": "stdout",
     "output_type": "stream",
     "text": [
      "[nominatim] downloading data: Berlin, Germany\n",
      "[overpass] downloading data: [timeout:120][date:\"2013-01-01T00:00:00Z\"][out:json];area(3600062422)->.searchArea;(node[\"natural\"=\"tree\"](area.searchArea);); out count;\n",
      "[overpass] waiting for 10.0 seconds\n",
      "[overpass] waiting for 10.0 more seconds\n",
      "[overpass] waiting for 10.0 more seconds\n",
      "[overpass] waiting for 8.0 more seconds\n",
      "[overpass] start processing\n",
      "[nominatim] downloading data: Paris, France\n",
      "[overpass] downloading data: [timeout:120][date:\"2013-01-01T00:00:00Z\"][out:json];area(3600007444)->.searchArea;(node[\"natural\"=\"tree\"](area.searchArea);); out count;\n",
      "[overpass] waiting for 10.0 seconds\n",
      "[overpass] waiting for 10.0 more seconds\n",
      "[overpass] waiting for 7.0 more seconds\n",
      "[overpass] start processing\n",
      "[overpass] downloading data: [timeout:120][date:\"2014-01-01T00:00:00Z\"][out:json];area(3600062422)->.searchArea;(node[\"natural\"=\"tree\"](area.searchArea);); out count;\n",
      "[overpass] downloading data: [timeout:120][date:\"2014-01-01T00:00:00Z\"][out:json];area(3600007444)->.searchArea;(node[\"natural\"=\"tree\"](area.searchArea);); out count;\n",
      "[overpass] waiting for 10.0 seconds\n",
      "[overpass] waiting for 10.0 more seconds\n",
      "[overpass] waiting for 9.0 more seconds\n",
      "[overpass] start processing\n",
      "[overpass] downloading data: [timeout:120][date:\"2014-01-01T00:00:00Z\"][out:json];area(3600109166)->.searchArea;(node[\"natural\"=\"tree\"](area.searchArea);); out count;\n",
      "[overpass] waiting for 10.0 seconds\n",
      "[overpass] waiting for 4.0 more seconds\n",
      "[overpass] start processing\n",
      "[overpass] downloading data: [timeout:120][date:\"2015-01-01T00:00:00Z\"][out:json];area(3600062422)->.searchArea;(node[\"natural\"=\"tree\"](area.searchArea);); out count;\n",
      "[overpass] downloading data: [timeout:120][date:\"2015-01-01T00:00:00Z\"][out:json];area(3600007444)->.searchArea;(node[\"natural\"=\"tree\"](area.searchArea);); out count;\n",
      "[overpass] waiting for 10.0 seconds\n",
      "[overpass] waiting for 8.0 more seconds\n",
      "[overpass] start processing\n",
      "[overpass] downloading data: [timeout:120][date:\"2015-01-01T00:00:00Z\"][out:json];area(3600109166)->.searchArea;(node[\"natural\"=\"tree\"](area.searchArea);); out count;\n",
      "[overpass] waiting for 10.0 seconds\n",
      "[overpass] waiting for 3.0 more seconds\n",
      "[overpass] start processing\n",
      "[overpass] downloading data: [timeout:120][date:\"2016-01-01T00:00:00Z\"][out:json];area(3600062422)->.searchArea;(node[\"natural\"=\"tree\"](area.searchArea);); out count;\n",
      "[overpass] downloading data: [timeout:120][date:\"2016-01-01T00:00:00Z\"][out:json];area(3600007444)->.searchArea;(node[\"natural\"=\"tree\"](area.searchArea);); out count;\n",
      "[overpass] waiting for 10.0 seconds\n",
      "[overpass] start processing\n",
      "[overpass] downloading data: [timeout:120][date:\"2016-01-01T00:00:00Z\"][out:json];area(3600109166)->.searchArea;(node[\"natural\"=\"tree\"](area.searchArea);); out count;\n",
      "[overpass] downloading data: [timeout:120][date:\"2017-01-01T00:00:00Z\"][out:json];area(3600062422)->.searchArea;(node[\"natural\"=\"tree\"](area.searchArea);); out count;\n",
      "[overpass] waiting for 10.0 seconds\n",
      "[overpass] waiting for 10.0 more seconds\n",
      "[overpass] start processing\n",
      "[overpass] downloading data: [timeout:120][date:\"2017-01-01T00:00:00Z\"][out:json];area(3600007444)->.searchArea;(node[\"natural\"=\"tree\"](area.searchArea);); out count;\n",
      "[overpass] downloading data: [timeout:120][date:\"2017-01-01T00:00:00Z\"][out:json];area(3600109166)->.searchArea;(node[\"natural\"=\"tree\"](area.searchArea);); out count;\n",
      "[overpass] waiting for 10.0 seconds\n",
      "[overpass] waiting for 7.0 more seconds\n",
      "[overpass] start processing\n"
     ]
    }
   ],
   "source": [
    "overpass = Overpass()\n",
    "def fetch(year, city):\n",
    "    areaId = nominatim.query(city).areaId()\n",
    "    query = overpassQueryBuilder(area=areaId, elementType='node', selector='\"natural\"=\"tree\"', out='count')\n",
    "    return overpass.query(query, date=year, timeout=120).countElements()\n",
    "data = Data(fetch, dimensions)"
   ]
  },
  {
   "cell_type": "code",
   "execution_count": 22,
   "metadata": {},
   "outputs": [
    {
     "data": {
      "text/plain": [
       "\n",
       "                value\n",
       "city   year          \n",
       "berlin 2013.0   10180\n",
       "       2014.0   17971\n",
       "       2015.0   28277\n",
       "       2016.0   86769\n",
       "       2017.0  108432\n",
       "paris  2013.0    1936\n",
       "       2014.0   26905\n",
       "       2015.0   90602\n",
       "       2016.0  103175\n",
       "       2017.0  103249\n",
       "vienna 2013.0  127690\n",
       "       2014.0  128906\n",
       "       2015.0  130279\n",
       "       2016.0  132294\n",
       "       2017.0  134617"
      ]
     },
     "execution_count": 22,
     "metadata": {},
     "output_type": "execute_result"
    },
    {
     "data": {
      "image/png": "[encoded data removed]",
      "text/plain": [
       "<Figure size 432x288 with 1 Axes>"
      ]
     },
     "metadata": {
      "needs_background": "light"
     },
     "output_type": "display_data"
    }
   ],
   "source": [
    "data.plot(city=ALL, filename='example4.png')"
   ]
  },
  {
   "cell_type": "code",
   "execution_count": 23,
   "metadata": {},
   "outputs": [
    {
     "data": {
      "text/plain": [
       "'year,berlin,paris,vienna\\r\\n2013.0,10180,1936,127690\\r\\n2014.0,17971,26905,128906\\r\\n2015.0,28277,90602,130279\\r\\n2016.0,86769,103175,132294\\r\\n2017.0,108432,103249,134617\\r\\n'"
      ]
     },
     "execution_count": 23,
     "metadata": {},
     "output_type": "execute_result"
    }
   ],
   "source": [
    "data.select(city=ALL).getCSV()"
   ]
  },
  {
   "cell_type": "markdown",
   "metadata": {},
   "source": [
    "# One more example with Overpass_API"
   ]
  },
  {
   "cell_type": "markdown",
   "metadata": {},
   "source": [
    "https://wiki.openstreetmap.org/wiki/Overpass_API\n",
    "\n",
    "https://medium.com/better-programming/how-to-get-open-street-and-map-data-using-python-2b777bf5af14"
   ]
  },
  {
   "cell_type": "markdown",
   "metadata": {},
   "source": [
    "`node[\"amenity\"=\"cafe\"]({{bbox}}); out;`"
   ]
  },
  {
   "cell_type": "markdown",
   "metadata": {},
   "source": [
    "`node[\"amenity\"=\"pub\"](53.2987342,-6.3870259,53.4105416,-6.1148829); out;\n",
    "`"
   ]
  },
  {
   "cell_type": "markdown",
   "metadata": {},
   "source": [
    "`( node[\"amenity\"=\"cafe\"]({{bbox}});\n",
    "  way[\"amenity\"=\"cafe\"]({{bbox}});\n",
    "  relation[\"amenity\"=\"cafe\"]({{bbox}});\n",
    ");\n",
    "out;`"
   ]
  },
  {
   "cell_type": "markdown",
   "metadata": {},
   "source": [
    "`area[\"ISO3166-1\"=\"GB\"][admin_level=2];\n",
    "node[\"place\"=\"city\"](area);\n",
    "out;`"
   ]
  },
  {
   "cell_type": "markdown",
   "metadata": {},
   "source": [
    "In this case, area IDs need to be derived from an existing OSM way by adding `2400000000` to its OSM ID, or, in case of relation, by adding `3600000000`"
   ]
  },
  {
   "cell_type": "markdown",
   "metadata": {},
   "source": [
    "`area(3600062149);\n",
    "node[\"place\"=\"city\"](area);\n",
    "out;`"
   ]
  },
  {
   "cell_type": "markdown",
   "metadata": {},
   "source": [
    "The first set of values can control the verbosity or the detail of information of the output, such as `ids`, `skel`, `body`(default value), `tags`, `meta`, and `count`"
   ]
  },
  {
   "cell_type": "markdown",
   "metadata": {},
   "source": [
    "For more information please follow the link: https://wiki.openstreetmap.org/wiki/Overpass_API/Overpass_QL"
   ]
  },
  {
   "cell_type": "code",
   "execution_count": 24,
   "metadata": {},
   "outputs": [],
   "source": [
    "import requests\n",
    "import json\n",
    "overpass_url = \"http://overpass-api.de/api/interpreter\"\n",
    "overpass_query = \"\"\"\n",
    "[out:json];\n",
    "area[\"ISO3166-1\"=\"DE\"][admin_level=2];\n",
    "(node[\"amenity\"=\"biergarten\"](area);\n",
    " way[\"amenity\"=\"biergarten\"](area);\n",
    " rel[\"amenity\"=\"biergarten\"](area);\n",
    ");\n",
    "out center;\n",
    "\"\"\"\n",
    "response = requests.get(overpass_url, \n",
    "                        params={'data': overpass_query})\n",
    "data = response.json()"
   ]
  },
  {
   "cell_type": "code",
   "execution_count": 25,
   "metadata": {},
   "outputs": [
    {
     "data": {
      "image/png": "[encoded data removed]",
      "text/plain": [
       "<Figure size 432x288 with 1 Axes>"
      ]
     },
     "metadata": {
      "needs_background": "light"
     },
     "output_type": "display_data"
    }
   ],
   "source": [
    "import numpy as np\n",
    "import matplotlib.pyplot as plt\n",
    "# Collect coords into list\n",
    "coords = []\n",
    "for element in data['elements']:\n",
    "    if element['type'] == 'node':\n",
    "        lon = element['lon']\n",
    "        lat = element['lat']\n",
    "        coords.append((lon, lat))\n",
    "    elif 'center' in element:\n",
    "        lon = element['center']['lon']\n",
    "        lat = element['center']['lat']\n",
    "        coords.append((lon, lat))\n",
    "# Convert coordinates into numpy array\n",
    "X = np.array(coords)\n",
    "plt.plot(X[:, 0], X[:, 1], 'o')\n",
    "plt.title('Biergarten in Germany')\n",
    "plt.xlabel('Longitude')\n",
    "plt.ylabel('Latitude')\n",
    "plt.axis('equal')\n",
    "plt.show()"
   ]
  },
  {
   "cell_type": "code",
   "execution_count": 28,
   "metadata": {},
   "outputs": [],
   "source": [
    "import overpy\n",
    "api = overpy.Overpass()\n",
    "r = api.query(\"\"\"\n",
    "area[\"ISO3166-1\"=\"DE\"][admin_level=2];\n",
    "(node[\"amenity\"=\"biergarten\"](area);\n",
    " way[\"amenity\"=\"biergarten\"](area);\n",
    " rel[\"amenity\"=\"biergarten\"](area);\n",
    ");\n",
    "out center;\n",
    "\"\"\")\n",
    "coords  = []\n",
    "coords += [(float(node.lon), float(node.lat)) \n",
    "           for node in r.nodes]\n",
    "coords += [(float(way.center_lon), float(way.center_lat)) \n",
    "           for way in r.ways]\n",
    "coords += [(float(rel.center_lon), float(rel.center_lat)) \n",
    "           for rel in r.relations]"
   ]
  },
  {
   "cell_type": "code",
   "execution_count": 29,
   "metadata": {},
   "outputs": [
    {
     "data": {
      "image/png": "[encoded data removed]",
      "text/plain": [
       "<Figure size 432x288 with 1 Axes>"
      ]
     },
     "metadata": {
      "needs_background": "light"
     },
     "output_type": "display_data"
    }
   ],
   "source": [
    "# Convert coordinates into numpy array\n",
    "X = np.array(coords)\n",
    "plt.plot(X[:, 0], X[:, 1], 'o')\n",
    "plt.title('Biergarten in Germany')\n",
    "plt.xlabel('Longitude')\n",
    "plt.ylabel('Latitude')\n",
    "plt.axis('equal')\n",
    "plt.show()"
   ]
  },
  {
   "cell_type": "code",
   "execution_count": null,
   "metadata": {},
   "outputs": [],
   "source": []
  }
 ],
 "metadata": {
  "kernelspec": {
   "display_name": "Python 3",
   "language": "python",
   "name": "python3"
  },
  "language_info": {
   "codemirror_mode": {
    "name": "ipython",
    "version": 3
   },
   "file_extension": ".py",
   "mimetype": "text/x-python",
   "name": "python",
   "nbconvert_exporter": "python",
   "pygments_lexer": "ipython3",
   "version": "3.8.5"
  }
 },
 "nbformat": 4,
 "nbformat_minor": 4
}
